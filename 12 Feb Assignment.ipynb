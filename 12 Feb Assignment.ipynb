{
 "cells": [
  {
   "cell_type": "markdown",
   "id": "5d4a8cbd",
   "metadata": {},
   "source": [
    "(Q1):\n",
    "In Python, an exception is an error that occurs during the execution of a program. Whenever an error occurs, Python generates an exception object, which contains information about the error, such as the type of error and where it occurred in the code. The program can then handle the exception by catching it and taking appropriate action, such as displaying an error message or exiting the program gracefully.\n",
    "\n",
    "Some common types of exceptions in Python include:\n",
    "\n",
    "ValueError: raised when an operation or function receives an argument of the correct type but with an inappropriate value.\n",
    "TypeError: raised when an operation or function is applied to an object of inappropriate type.\n",
    "IndexError: raised when an index is out of range.\n",
    "KeyError: raised when a dictionary key is not found.\n",
    "NameError: raised when a variable is not found in the local or global scope.\n",
    "The main difference between exceptions and syntax errors in Python is that syntax errors occur during the parsing or compilation of the program, whereas exceptions occur during the execution of the program. Syntax errors are caused by violations of the Python syntax rules, such as incorrect indentation, missing or mismatched parentheses, or misspelled keywords. They prevent the program from running at all, whereas exceptions occur during the program's execution and can be handled by the program. Another key difference is that syntax errors are typically detected by the Python interpreter before the program is run, while exceptions can occur at any time during the program's execution.\n"
   ]
  },
  {
   "cell_type": "markdown",
   "id": "bd00087d",
   "metadata": {},
   "source": [
    "(Q2):\n",
    "    When an exception is not handled, it will cause the program to terminate and display an error message. This error message will provide information about the type of exception that was raised, the line of code where the exception occurred, and a traceback of the call stack leading up to the exception. The program will then exit, and any remaining code will not be executed.\n",
    "    In this example, the program attempts to divide the number 10 by zero, which is not a valid operation and will raise a ZeroDivisionError exception. However, the program does not have a try-except block to handle this exception, so the exception will not be caught and will cause the program to terminate.\n",
    "    \n",
    "    "
   ]
  },
  {
   "cell_type": "code",
   "execution_count": 3,
   "id": "7a3a360e",
   "metadata": {},
   "outputs": [],
   "source": [
    "try:\n",
    "    x = 10 / 0  # Division by zero raises a ZeroDivisionError\n",
    "except ValueError:\n",
    "    print(\"Oops! ValueError occurred.\")"
   ]
  },
  {
   "cell_type": "markdown",
   "id": "e8f8b0cc",
   "metadata": {},
   "source": [
    "(Q3):In Python, you can catch and handle exceptions using a try-except block. The try block contains the code that may raise an exception, while the except block contains the code to handle the exception if it occurs.\n",
    "\n",
    "Here's an example of how to catch and handle a ZeroDivisionError exception:"
   ]
  },
  {
   "cell_type": "code",
   "execution_count": null,
   "id": "20e556a0",
   "metadata": {},
   "outputs": [],
   "source": [
    "try:\n",
    "    x = 10 / 0  # Division by zero raises a ZeroDivisionError\n",
    "except ZeroDivisionError:\n",
    "    print(\"Oops! Division by zero occurred.\")"
   ]
  },
  {
   "cell_type": "markdown",
   "id": "916bfe7a",
   "metadata": {},
   "source": [
    "(Q4): (a) :In Python, you can use the try statement with an optional else clause to handle exceptions that may occur during the execution of a program, and to specify code that should be executed if no exceptions occur. The else clause is executed after the try block, but before any finally block (if present) and can be used to perform additional operations that should only be executed if the try block was successful."
   ]
  },
  {
   "cell_type": "code",
   "execution_count": 8,
   "id": "d2a07921",
   "metadata": {},
   "outputs": [
    {
     "name": "stdout",
     "output_type": "stream",
     "text": [
      "Please enter a number: 55\n",
      "The square of your number is: 3025\n"
     ]
    }
   ],
   "source": [
    "try:\n",
    "    x = int(input(\"Please enter a number: \"))\n",
    "except ValueError:\n",
    "    print(\"That was not a valid number.\")\n",
    "else:\n",
    "    print(\"The square of your number is:\", x**2)"
   ]
  },
  {
   "cell_type": "markdown",
   "id": "fdac8417",
   "metadata": {},
   "source": [
    "(b):In Python, you can use the finally clause in a try statement to specify code that should be executed regardless of whether an exception occurred or not."
   ]
  },
  {
   "cell_type": "code",
   "execution_count": 9,
   "id": "d732266c",
   "metadata": {},
   "outputs": [
    {
     "name": "stdout",
     "output_type": "stream",
     "text": [
      "this is finally\n"
     ]
    }
   ],
   "source": [
    "try:\n",
    "    f = open(\"myfile.txt\", \"w\")\n",
    "    f.write(\"Hello, world!\")\n",
    "finally:\n",
    "    f.close()\n",
    "    print(\"this is finally\")"
   ]
  },
  {
   "cell_type": "markdown",
   "id": "42b6e6e0",
   "metadata": {},
   "source": [
    "(c):In Python, you can use the raise statement to raise an exception manually. This can be useful for cases where you want to raise an error condition based on some custom logic"
   ]
  },
  {
   "cell_type": "code",
   "execution_count": 10,
   "id": "4d60ad22",
   "metadata": {},
   "outputs": [],
   "source": [
    "def divide(x, y):\n",
    "    if y == 0:\n",
    "        raise ValueError(\"Division by zero is not allowed\")\n",
    "    return x / y"
   ]
  },
  {
   "cell_type": "markdown",
   "id": "95c7369b",
   "metadata": {},
   "source": [
    "(Q5):In Python, custom exceptions are user-defined exception classes that inherit from the built-in Exception class. They are used to represent specific error conditions in your code that may not be covered by the built-in exceptions.\n",
    "\n",
    "Custom exceptions are useful because they allow you to create your own error conditions and handle them in a more organized and structured way. They can also help to make your code more readable and maintainable by providing meaningful error messages that describe the specific error condition that occurred."
   ]
  },
  {
   "cell_type": "code",
   "execution_count": null,
   "id": "eaeded76",
   "metadata": {},
   "outputs": [],
   "source": [
    "class validateage(Exception):\n",
    "    \n",
    "    def __init__(self,msg):\n",
    "        self.msg =msg"
   ]
  },
  {
   "cell_type": "code",
   "execution_count": null,
   "id": "994815c1",
   "metadata": {},
   "outputs": [],
   "source": [
    "def validateage(age):\n",
    "    if age < 0:\n",
    "        raise validateage (\"entered age is negative\")\n",
    "    elif age > 200:\n",
    "        raise validateage (\"entered age is very high\")\n",
    "    else:\n",
    "        print(\"valid age\")"
   ]
  },
  {
   "cell_type": "code",
   "execution_count": null,
   "id": "5c511f0d",
   "metadata": {},
   "outputs": [],
   "source": [
    "try :\n",
    "    age =int(input(\"enter your age \"))\n",
    "    validateage(age)\n",
    "except validateage as a:\n",
    "    print(a)"
   ]
  },
  {
   "cell_type": "code",
   "execution_count": null,
   "id": "500f2842",
   "metadata": {},
   "outputs": [],
   "source": []
  },
  {
   "cell_type": "code",
   "execution_count": null,
   "id": "0297b0fd",
   "metadata": {},
   "outputs": [],
   "source": []
  },
  {
   "cell_type": "code",
   "execution_count": null,
   "id": "cd0aaedb",
   "metadata": {},
   "outputs": [],
   "source": []
  },
  {
   "cell_type": "code",
   "execution_count": null,
   "id": "6f470ef9",
   "metadata": {},
   "outputs": [],
   "source": []
  }
 ],
 "metadata": {
  "kernelspec": {
   "display_name": "Python 3 (ipykernel)",
   "language": "python",
   "name": "python3"
  },
  "language_info": {
   "codemirror_mode": {
    "name": "ipython",
    "version": 3
   },
   "file_extension": ".py",
   "mimetype": "text/x-python",
   "name": "python",
   "nbconvert_exporter": "python",
   "pygments_lexer": "ipython3",
   "version": "3.9.13"
  }
 },
 "nbformat": 4,
 "nbformat_minor": 5
}
